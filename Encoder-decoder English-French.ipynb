{
 "cells": [
  {
   "cell_type": "code",
   "execution_count": 1,
   "metadata": {},
   "outputs": [],
   "source": [
    "import numpy as np\n",
    "from keras.models import Model\n",
    "from keras.layers import Input, LSTM, Dense\n",
    "from keras.utils import *\n",
    "from keras.initializers import *\n",
    "import tensorflow as tf\n",
    "import time, random\n",
    "import re\n",
    "\n",
    "from keras.preprocessing.text import Tokenizer\n",
    "from keras.preprocessing.sequence import pad_sequences"
   ]
  },
  {
   "cell_type": "code",
   "execution_count": 2,
   "metadata": {},
   "outputs": [],
   "source": [
    "batch_size = 64\n",
    "latent_dim = 256\n",
    "num_samples = 10000"
   ]
  },
  {
   "cell_type": "code",
   "execution_count": 30,
   "metadata": {},
   "outputs": [],
   "source": [
    "input_texts = []\n",
    "target_texts = []\n",
    "input_characters = set()\n",
    "target_characters = set()\n",
    "\n",
    "data_path ='French_english.txt'\n",
    "with open(data_path, 'r', encoding='utf-8') as f:\n",
    "    lines = f.read().split('\\n')\n",
    "for line in lines[: min(num_samples, len(lines) - 1)]:   # Taking lines from 0 to num_samples which is 10000\n",
    "    input_text, target_text, _ = line.split('\\t')\n",
    "    # We use \"tab\" as the \"start sequence\" character\n",
    "    # for the targets, and \"\\n\" as \"end sequence\" character.\n",
    "    target_text = '\\t' + target_text + '\\n'\n",
    "    input_texts.append(input_text)\n",
    "    target_texts.append(target_text)\n",
    "    #print(input_texts, target_texts) #pp\n",
    "    for char in input_text:\n",
    "        if char not in input_characters:\n",
    "            input_characters.add(char)\n",
    "    for char in target_text:\n",
    "        if char not in target_characters:\n",
    "            target_characters.add(char)"
   ]
  },
  {
   "cell_type": "code",
   "execution_count": null,
   "metadata": {},
   "outputs": [],
   "source": []
  },
  {
   "cell_type": "code",
   "execution_count": 120,
   "metadata": {},
   "outputs": [],
   "source": [
    "def clean_text(text):\n",
    "    '''remove punctiations\n",
    "    remove numbers\n",
    "    remove contractions\n",
    "    '''\n",
    "    \n",
    "    text = text.lower()\n",
    "    \n",
    "    text = re.sub(r\"i'm\", \"i am\", text)\n",
    "    text = re.sub(r\"he's\", \"he is\", text)\n",
    "    text = re.sub(r\"she's\", \"she is\", text)\n",
    "    text = re.sub(r\"it's\", \"it is\", text)\n",
    "    text = re.sub(r\"that's\", \"that is\", text)\n",
    "    text = re.sub(r\"what's\", \"that is\", text)\n",
    "    text = re.sub(r\"where's\", \"where is\", text)\n",
    "    text = re.sub(r\"how's\", \"how is\", text)\n",
    "    text = re.sub(r\"\\'ll\", \" will\", text)\n",
    "    text = re.sub(r\"\\'ve\", \" have\", text)\n",
    "    text = re.sub(r\"\\'re\", \" are\", text)\n",
    "    text = re.sub(r\"\\'d\", \" would\", text)\n",
    "    text = re.sub(r\"\\'re\", \" are\", text)\n",
    "    text = re.sub(r\"won't\", \"will not\", text)\n",
    "    text = re.sub(r\"can't\", \"cannot\", text)\n",
    "    text = re.sub(r\"n't\", \" not\", text)\n",
    "    text = re.sub(r\"n'\", \"ng\", text)\n",
    "    text = re.sub(r\"'bout\", \"about\", text)\n",
    "    text = re.sub(r\"'til\", \"until\", text)\n",
    "    text = re.sub(r\"[-()\\\"#/@;:<>{}`+=~|.!?,]\", \"\", text)\n",
    "    \n",
    "    return text"
   ]
  },
  {
   "cell_type": "code",
   "execution_count": 34,
   "metadata": {},
   "outputs": [
    {
     "name": "stdout",
     "output_type": "stream",
     "text": [
      "Number of samples: 10000\n",
      "Number of unique input tokens: 71\n",
      "Number of unique output tokens: 92\n",
      "Max sequence length for inputs: 15\n",
      "Max sequence length for outputs: 59\n"
     ]
    }
   ],
   "source": [
    "input_characters = sorted(list(input_characters))\n",
    "target_characters = sorted(list(target_characters))\n",
    "num_encoder_tokens = len(input_characters)\n",
    "num_decoder_tokens = len(target_characters)\n",
    "max_encoder_seq_length = max([len(txt) for txt in input_texts])\n",
    "max_decoder_seq_length = max([len(txt) for txt in target_texts])\n",
    "\n",
    "print('Number of samples:', len(input_texts))\n",
    "print('Number of unique input tokens:', num_encoder_tokens)\n",
    "print('Number of unique output tokens:', num_decoder_tokens)\n",
    "print('Max sequence length for inputs:', max_encoder_seq_length)\n",
    "print('Max sequence length for outputs:', max_decoder_seq_length)"
   ]
  },
  {
   "cell_type": "code",
   "execution_count": null,
   "metadata": {},
   "outputs": [],
   "source": []
  },
  {
   "cell_type": "code",
   "execution_count": 35,
   "metadata": {},
   "outputs": [
    {
     "name": "stdout",
     "output_type": "stream",
     "text": [
      "encoder_input_data (10000, 15, 71)\n",
      "decoder_input_data (10000, 59, 92)\n",
      "decoder_target_data (10000, 59, 92)\n",
      "**************\n"
     ]
    }
   ],
   "source": [
    "input_token_index = dict(\n",
    "    [(char, i) for i, char in enumerate(input_characters)])\n",
    "target_token_index = dict(\n",
    "    [(char, i) for i, char in enumerate(target_characters)])\n",
    "\n",
    "encoder_input_data = np.zeros(                                         #10000, max lenght of input, number of uniq char in inp\n",
    "    (len(input_texts), max_encoder_seq_length, num_encoder_tokens),\n",
    "    dtype='float32')\n",
    "decoder_input_data = np.zeros(\n",
    "    (len(input_texts), max_decoder_seq_length, num_decoder_tokens),\n",
    "    dtype='float32')\n",
    "decoder_target_data = np.zeros(\n",
    "    (len(input_texts), max_decoder_seq_length, num_decoder_tokens),\n",
    "    dtype='float32')\n",
    "\n",
    "print(\"encoder_input_data\",encoder_input_data.shape)\n",
    "print(\"decoder_input_data\",decoder_input_data.shape)\n",
    "print(\"decoder_target_data\",decoder_target_data.shape)\n",
    "print(\"**************\")"
   ]
  },
  {
   "cell_type": "code",
   "execution_count": null,
   "metadata": {},
   "outputs": [],
   "source": []
  },
  {
   "cell_type": "code",
   "execution_count": 61,
   "metadata": {},
   "outputs": [],
   "source": [
    "for i, (input_text, target_text) in enumerate(zip(input_texts, target_texts)):\n",
    "    for t, char in enumerate(input_text):\n",
    "        encoder_input_data[i, t, input_token_index[char]] = 1.    # earlier we have made a numpy array of zeros so here we are one hot encoding by puttong 1 on places chars are found.\n",
    "    #encoder_input_data[i, t + 1:, input_token_index[' ']] = 1.\n",
    "    for t, char in enumerate(target_text):\n",
    "        # decoder_target_data is ahead of decoder_input_data by one timestep\n",
    "        decoder_input_data[i, t, target_token_index[char]] = 1.\n",
    "        #since target_text consit of \\t in beginnig we make dec[0,t=0,target_index['\\t']] ie dec[0,0,0] =1  \\t encoding\n",
    "        #when t=1 ie v dec_input[o,t=1,'V'] = dec_inp[0,1,42]\n",
    "        if t > 0:\n",
    "            #now when t=1 ie V\n",
    "            #dec[i=0,t=t-1=0,target_ind[\"V\"]] = [0,0,42] =1\n",
    "            decoder_target_data[i, t - 1, target_token_index[char]] = 1.\n",
    "            #3nd iteration for  'a'\n",
    "            #dec[o,t=t-1=2-1,target['a']] =[0,1,44] =1\n",
    "\n",
    "    \n",
    "'''\n",
    "looking at dec_inp and dec_out\n",
    "for V  we see that at dec_input row 1 and col 42 gets encoded, whereas,\n",
    "dec_target which does not have start and end has row 0 col 42 encoded. \n",
    "'''    "
   ]
  },
  {
   "cell_type": "code",
   "execution_count": 70,
   "metadata": {},
   "outputs": [
    {
     "data": {
      "text/plain": [
       "('Go.', '\\tVa !\\n')"
      ]
     },
     "execution_count": 70,
     "metadata": {},
     "output_type": "execute_result"
    }
   ],
   "source": [
    "input_texts[0], target_texts[0]"
   ]
  },
  {
   "cell_type": "code",
   "execution_count": 97,
   "metadata": {},
   "outputs": [
    {
     "data": {
      "text/plain": [
       "('Go.', '\\tMarche.\\n')"
      ]
     },
     "execution_count": 97,
     "metadata": {},
     "output_type": "execute_result"
    }
   ],
   "source": [
    "input_texts[1], target_texts[1]"
   ]
  },
  {
   "cell_type": "code",
   "execution_count": 80,
   "metadata": {},
   "outputs": [
    {
     "data": {
      "text/plain": [
       "array([[0., 0., 0., ..., 0., 0., 0.],\n",
       "       [0., 0., 0., ..., 0., 0., 0.],\n",
       "       [0., 0., 0., ..., 0., 0., 0.],\n",
       "       ...,\n",
       "       [0., 0., 0., ..., 0., 0., 0.],\n",
       "       [0., 0., 0., ..., 0., 0., 0.],\n",
       "       [0., 0., 0., ..., 0., 0., 0.]], dtype=float32)"
      ]
     },
     "execution_count": 80,
     "metadata": {},
     "output_type": "execute_result"
    }
   ],
   "source": [
    "encoder_input_data[0]"
   ]
  },
  {
   "cell_type": "code",
   "execution_count": 109,
   "metadata": {},
   "outputs": [
    {
     "data": {
      "text/plain": [
       "(array([0., 0., 0., 0., 0., 0., 0., 0., 0., 0., 0., 0., 0., 0., 0., 0., 0.,\n",
       "        0., 0., 0., 0., 0., 0., 0., 0., 0., 0., 0., 0., 0., 0., 0., 0., 0.,\n",
       "        0., 0., 0., 0., 0., 0., 0., 0., 1., 0., 0., 0., 0., 0., 0., 0., 0.,\n",
       "        0., 0., 0., 0., 0., 0., 0., 0., 0., 0., 0., 0., 0., 0., 0., 0., 0.,\n",
       "        0., 0., 0., 0., 0., 0., 0., 0., 0., 0., 0., 0., 0., 0., 0., 0., 0.,\n",
       "        0., 0., 0., 0., 0., 0., 0.], dtype=float32),\n",
       " array([0., 0., 0., 0., 0., 0., 0., 0., 0., 0., 0., 0., 0., 0., 0., 0., 0.,\n",
       "        0., 0., 0., 0., 0., 0., 0., 0., 0., 0., 0., 0., 0., 0., 0., 0., 0.,\n",
       "        0., 0., 0., 0., 0., 0., 0., 0., 1., 0., 0., 0., 0., 0., 0., 0., 0.,\n",
       "        0., 0., 0., 0., 0., 0., 0., 0., 0., 0., 0., 0., 0., 0., 0., 0., 0.,\n",
       "        0., 0., 0., 0., 0., 0., 0., 0., 0., 0., 0., 0., 0., 0., 0., 0., 0.,\n",
       "        0., 0., 0., 0., 0., 0., 0.], dtype=float32))"
      ]
     },
     "execution_count": 109,
     "metadata": {},
     "output_type": "execute_result"
    }
   ],
   "source": [
    "decoder_input_data[0][1],decoder_target_data[0][0]\n",
    "\n",
    "#we can see the difference "
   ]
  },
  {
   "cell_type": "code",
   "execution_count": 111,
   "metadata": {},
   "outputs": [],
   "source": [
    "encoder_inputs = Input(shape=(None, num_encoder_tokens))             #noen,none,71\n",
    "encoder = LSTM(latent_dim, return_state=True)#256 dims\n",
    "encoder_outputs, state_h, state_c = encoder(encoder_inputs)\n",
    "# We discard `encoder_outputs` and only keep the states.\n",
    "encoder_states = [state_h, state_c]"
   ]
  },
  {
   "cell_type": "code",
   "execution_count": 127,
   "metadata": {},
   "outputs": [],
   "source": [
    "# Set up the decoder, using `encoder_states` as initial state.\n",
    "decoder_inputs = Input(shape=(None, num_decoder_tokens))   #none.none.92\n",
    "# We set up our decoder to return full output sequences,\n",
    "# and to return internal states as well. We don't use the\n",
    "# return states in the training model, but we will use them in inference.\n",
    "decoder_lstm = LSTM(latent_dim, return_sequences=True, return_state=True)#return both staes and output\n",
    "decoder_outputs, _, _ = decoder_lstm(decoder_inputs,initial_state=encoder_states)    #none.none.92\n",
    "decoder_dense = Dense(num_decoder_tokens, activation='softmax')\n",
    "decoder_outputs = decoder_dense(decoder_outputs)"
   ]
  },
  {
   "cell_type": "code",
   "execution_count": 129,
   "metadata": {},
   "outputs": [
    {
     "name": "stdout",
     "output_type": "stream",
     "text": [
      "Epoch 1/100\n",
      "125/125 [==============================] - 26s 212ms/step - loss: 0.3673 - accuracy: 0.1912 - val_loss: 0.4733 - val_accuracy: 0.1982\n",
      "Epoch 2/100\n",
      "125/125 [==============================] - 27s 212ms/step - loss: 0.3507 - accuracy: 0.1959 - val_loss: 0.4687 - val_accuracy: 0.2010\n",
      "Epoch 3/100\n",
      "125/125 [==============================] - 25s 200ms/step - loss: 0.3375 - accuracy: 0.2000 - val_loss: 0.4654 - val_accuracy: 0.2021\n",
      "Epoch 4/100\n",
      "125/125 [==============================] - 27s 217ms/step - loss: 0.3244 - accuracy: 0.2040 - val_loss: 0.4604 - val_accuracy: 0.2031\n",
      "Epoch 5/100\n",
      "125/125 [==============================] - 24s 188ms/step - loss: 0.3130 - accuracy: 0.2075 - val_loss: 0.4566 - val_accuracy: 0.2064\n",
      "Epoch 6/100\n",
      "125/125 [==============================] - 21s 172ms/step - loss: 0.3016 - accuracy: 0.2110 - val_loss: 0.4528 - val_accuracy: 0.2078\n",
      "Epoch 7/100\n",
      "125/125 [==============================] - 22s 174ms/step - loss: 0.2910 - accuracy: 0.2137 - val_loss: 0.4516 - val_accuracy: 0.2083\n",
      "Epoch 8/100\n",
      "125/125 [==============================] - 25s 201ms/step - loss: 0.2807 - accuracy: 0.2168 - val_loss: 0.4486 - val_accuracy: 0.2093\n",
      "Epoch 9/100\n",
      "125/125 [==============================] - 23s 180ms/step - loss: 0.2709 - accuracy: 0.2201 - val_loss: 0.4494 - val_accuracy: 0.2096\n",
      "Epoch 10/100\n",
      "125/125 [==============================] - 23s 188ms/step - loss: 0.2617 - accuracy: 0.2229 - val_loss: 0.4475 - val_accuracy: 0.2111\n",
      "Epoch 11/100\n",
      "125/125 [==============================] - 22s 177ms/step - loss: 0.2529 - accuracy: 0.2250 - val_loss: 0.4508 - val_accuracy: 0.2117\n",
      "Epoch 12/100\n",
      "125/125 [==============================] - 22s 175ms/step - loss: 0.2443 - accuracy: 0.2276 - val_loss: 0.4497 - val_accuracy: 0.2119\n",
      "Epoch 13/100\n",
      "125/125 [==============================] - 22s 174ms/step - loss: 0.2364 - accuracy: 0.2303 - val_loss: 0.4534 - val_accuracy: 0.2108\n",
      "Epoch 14/100\n",
      "125/125 [==============================] - 21s 166ms/step - loss: 0.2286 - accuracy: 0.2324 - val_loss: 0.4541 - val_accuracy: 0.2125\n",
      "Epoch 15/100\n",
      "125/125 [==============================] - 21s 165ms/step - loss: 0.2214 - accuracy: 0.2345 - val_loss: 0.4592 - val_accuracy: 0.2121\n",
      "Epoch 16/100\n",
      "125/125 [==============================] - 21s 165ms/step - loss: 0.2145 - accuracy: 0.2362 - val_loss: 0.4629 - val_accuracy: 0.2119\n",
      "Epoch 17/100\n",
      "125/125 [==============================] - 21s 165ms/step - loss: 0.2076 - accuracy: 0.2386 - val_loss: 0.4625 - val_accuracy: 0.2130\n",
      "Epoch 18/100\n",
      "125/125 [==============================] - 21s 166ms/step - loss: 0.2014 - accuracy: 0.2402 - val_loss: 0.4658 - val_accuracy: 0.2121\n",
      "Epoch 19/100\n",
      "125/125 [==============================] - 21s 167ms/step - loss: 0.1953 - accuracy: 0.2422 - val_loss: 0.4716 - val_accuracy: 0.2122\n",
      "Epoch 20/100\n",
      "125/125 [==============================] - 21s 168ms/step - loss: 0.1897 - accuracy: 0.2439 - val_loss: 0.4731 - val_accuracy: 0.2129\n",
      "Epoch 21/100\n",
      "125/125 [==============================] - 21s 167ms/step - loss: 0.1838 - accuracy: 0.2459 - val_loss: 0.4793 - val_accuracy: 0.2131\n",
      "Epoch 22/100\n",
      "125/125 [==============================] - 21s 166ms/step - loss: 0.1785 - accuracy: 0.2472 - val_loss: 0.4792 - val_accuracy: 0.2131\n",
      "Epoch 23/100\n",
      "125/125 [==============================] - 22s 172ms/step - loss: 0.1731 - accuracy: 0.2489 - val_loss: 0.4834 - val_accuracy: 0.2124\n",
      "Epoch 24/100\n",
      "125/125 [==============================] - 21s 166ms/step - loss: 0.1686 - accuracy: 0.2502 - val_loss: 0.4895 - val_accuracy: 0.2124\n",
      "Epoch 25/100\n",
      "125/125 [==============================] - 21s 168ms/step - loss: 0.1636 - accuracy: 0.2518 - val_loss: 0.4942 - val_accuracy: 0.2126\n",
      "Epoch 26/100\n",
      "125/125 [==============================] - 21s 167ms/step - loss: 0.1592 - accuracy: 0.2529 - val_loss: 0.4954 - val_accuracy: 0.2134\n",
      "Epoch 27/100\n",
      "125/125 [==============================] - 21s 166ms/step - loss: 0.1548 - accuracy: 0.2546 - val_loss: 0.5030 - val_accuracy: 0.2129\n",
      "Epoch 28/100\n",
      "125/125 [==============================] - 21s 165ms/step - loss: 0.1508 - accuracy: 0.2555 - val_loss: 0.5044 - val_accuracy: 0.2136\n",
      "Epoch 29/100\n",
      "125/125 [==============================] - 21s 170ms/step - loss: 0.1466 - accuracy: 0.2566 - val_loss: 0.5124 - val_accuracy: 0.2116\n",
      "Epoch 30/100\n",
      "125/125 [==============================] - 23s 184ms/step - loss: 0.1429 - accuracy: 0.2580 - val_loss: 0.5197 - val_accuracy: 0.2123\n",
      "Epoch 31/100\n",
      "125/125 [==============================] - 21s 171ms/step - loss: 0.1392 - accuracy: 0.2589 - val_loss: 0.5208 - val_accuracy: 0.2133\n",
      "Epoch 32/100\n",
      "125/125 [==============================] - 21s 171ms/step - loss: 0.1356 - accuracy: 0.2600 - val_loss: 0.5287 - val_accuracy: 0.2112\n",
      "Epoch 33/100\n",
      "125/125 [==============================] - 22s 172ms/step - loss: 0.1323 - accuracy: 0.2608 - val_loss: 0.5308 - val_accuracy: 0.2121\n",
      "Epoch 34/100\n",
      "125/125 [==============================] - 21s 168ms/step - loss: 0.1291 - accuracy: 0.2618 - val_loss: 0.5384 - val_accuracy: 0.2117\n",
      "Epoch 35/100\n",
      "125/125 [==============================] - 21s 166ms/step - loss: 0.1261 - accuracy: 0.2629 - val_loss: 0.5375 - val_accuracy: 0.2125\n",
      "Epoch 36/100\n",
      "125/125 [==============================] - 21s 165ms/step - loss: 0.1227 - accuracy: 0.2637 - val_loss: 0.5433 - val_accuracy: 0.2122\n",
      "Epoch 37/100\n",
      "125/125 [==============================] - 21s 166ms/step - loss: 0.1202 - accuracy: 0.2645 - val_loss: 0.5462 - val_accuracy: 0.2114\n",
      "Epoch 38/100\n",
      "125/125 [==============================] - 21s 167ms/step - loss: 0.1171 - accuracy: 0.2654 - val_loss: 0.5512 - val_accuracy: 0.2131\n",
      "Epoch 39/100\n",
      "125/125 [==============================] - 21s 167ms/step - loss: 0.1148 - accuracy: 0.2660 - val_loss: 0.5569 - val_accuracy: 0.2128\n",
      "Epoch 40/100\n",
      "125/125 [==============================] - 21s 164ms/step - loss: 0.1118 - accuracy: 0.2668 - val_loss: 0.5630 - val_accuracy: 0.2125\n",
      "Epoch 41/100\n",
      "125/125 [==============================] - 21s 168ms/step - loss: 0.1094 - accuracy: 0.2676 - val_loss: 0.5647 - val_accuracy: 0.2127\n",
      "Epoch 42/100\n",
      "125/125 [==============================] - 21s 172ms/step - loss: 0.1071 - accuracy: 0.2682 - val_loss: 0.5700 - val_accuracy: 0.2124\n",
      "Epoch 43/100\n",
      "125/125 [==============================] - 22s 173ms/step - loss: 0.1048 - accuracy: 0.2687 - val_loss: 0.5721 - val_accuracy: 0.2123\n",
      "Epoch 44/100\n",
      "125/125 [==============================] - 23s 182ms/step - loss: 0.1021 - accuracy: 0.2694 - val_loss: 0.5848 - val_accuracy: 0.2125\n",
      "Epoch 45/100\n",
      "125/125 [==============================] - 21s 169ms/step - loss: 0.1001 - accuracy: 0.2703 - val_loss: 0.5840 - val_accuracy: 0.2131\n",
      "Epoch 46/100\n",
      "125/125 [==============================] - 21s 167ms/step - loss: 0.0981 - accuracy: 0.2708 - val_loss: 0.5943 - val_accuracy: 0.2119\n",
      "Epoch 47/100\n",
      "125/125 [==============================] - 21s 171ms/step - loss: 0.0960 - accuracy: 0.2715 - val_loss: 0.5980 - val_accuracy: 0.2113\n",
      "Epoch 48/100\n",
      "125/125 [==============================] - 21s 171ms/step - loss: 0.0941 - accuracy: 0.2717 - val_loss: 0.6069 - val_accuracy: 0.2110\n",
      "Epoch 49/100\n",
      "125/125 [==============================] - 22s 178ms/step - loss: 0.0924 - accuracy: 0.2721 - val_loss: 0.6050 - val_accuracy: 0.2112\n",
      "Epoch 50/100\n",
      "125/125 [==============================] - 21s 167ms/step - loss: 0.0904 - accuracy: 0.2729 - val_loss: 0.6038 - val_accuracy: 0.2120\n",
      "Epoch 51/100\n",
      "125/125 [==============================] - 22s 176ms/step - loss: 0.0886 - accuracy: 0.2734 - val_loss: 0.6156 - val_accuracy: 0.2117\n",
      "Epoch 52/100\n",
      "125/125 [==============================] - 21s 167ms/step - loss: 0.0869 - accuracy: 0.2739 - val_loss: 0.6206 - val_accuracy: 0.2113\n",
      "Epoch 53/100\n",
      "125/125 [==============================] - 21s 166ms/step - loss: 0.0852 - accuracy: 0.2743 - val_loss: 0.6226 - val_accuracy: 0.2104\n",
      "Epoch 54/100\n",
      "125/125 [==============================] - 21s 166ms/step - loss: 0.0833 - accuracy: 0.2749 - val_loss: 0.6264 - val_accuracy: 0.2106\n",
      "Epoch 55/100\n",
      "125/125 [==============================] - 38s 307ms/step - loss: 0.0822 - accuracy: 0.2752 - val_loss: 0.6324 - val_accuracy: 0.2105\n",
      "Epoch 56/100\n",
      "125/125 [==============================] - 41s 328ms/step - loss: 0.0807 - accuracy: 0.2758 - val_loss: 0.6319 - val_accuracy: 0.2110\n"
     ]
    },
    {
     "name": "stdout",
     "output_type": "stream",
     "text": [
      "Epoch 57/100\n",
      "125/125 [==============================] - 41s 327ms/step - loss: 0.0792 - accuracy: 0.2762 - val_loss: 0.6417 - val_accuracy: 0.2108\n",
      "Epoch 58/100\n",
      "125/125 [==============================] - 42s 334ms/step - loss: 0.0774 - accuracy: 0.2766 - val_loss: 0.6424 - val_accuracy: 0.2097\n",
      "Epoch 59/100\n",
      "125/125 [==============================] - 40s 318ms/step - loss: 0.0763 - accuracy: 0.2769 - val_loss: 0.6521 - val_accuracy: 0.2105\n",
      "Epoch 60/100\n",
      "125/125 [==============================] - 41s 324ms/step - loss: 0.0752 - accuracy: 0.2772 - val_loss: 0.6469 - val_accuracy: 0.2107\n",
      "Epoch 61/100\n",
      "125/125 [==============================] - 40s 317ms/step - loss: 0.0739 - accuracy: 0.2775 - val_loss: 0.6535 - val_accuracy: 0.2114\n",
      "Epoch 62/100\n",
      "125/125 [==============================] - 40s 316ms/step - loss: 0.0724 - accuracy: 0.2778 - val_loss: 0.6613 - val_accuracy: 0.2101\n",
      "Epoch 63/100\n",
      "125/125 [==============================] - 39s 316ms/step - loss: 0.0708 - accuracy: 0.2785 - val_loss: 0.6680 - val_accuracy: 0.2098\n",
      "Epoch 64/100\n",
      "125/125 [==============================] - 41s 329ms/step - loss: 0.0703 - accuracy: 0.2785 - val_loss: 0.6637 - val_accuracy: 0.2099\n",
      "Epoch 65/100\n",
      "125/125 [==============================] - 41s 324ms/step - loss: 0.0687 - accuracy: 0.2790 - val_loss: 0.6665 - val_accuracy: 0.2101\n",
      "Epoch 66/100\n",
      "125/125 [==============================] - 40s 319ms/step - loss: 0.0680 - accuracy: 0.2793 - val_loss: 0.6722 - val_accuracy: 0.2101\n",
      "Epoch 67/100\n",
      "125/125 [==============================] - 40s 321ms/step - loss: 0.0668 - accuracy: 0.2795 - val_loss: 0.6761 - val_accuracy: 0.2097\n",
      "Epoch 68/100\n",
      "125/125 [==============================] - 40s 324ms/step - loss: 0.0657 - accuracy: 0.2796 - val_loss: 0.6839 - val_accuracy: 0.2097\n",
      "Epoch 69/100\n",
      "125/125 [==============================] - 40s 322ms/step - loss: 0.0646 - accuracy: 0.2801 - val_loss: 0.6837 - val_accuracy: 0.2093\n",
      "Epoch 70/100\n",
      "125/125 [==============================] - 41s 327ms/step - loss: 0.0638 - accuracy: 0.2801 - val_loss: 0.6904 - val_accuracy: 0.2099\n",
      "Epoch 71/100\n",
      "125/125 [==============================] - 43s 344ms/step - loss: 0.0629 - accuracy: 0.2805 - val_loss: 0.6968 - val_accuracy: 0.2093\n",
      "Epoch 72/100\n",
      "125/125 [==============================] - 40s 316ms/step - loss: 0.0618 - accuracy: 0.2809 - val_loss: 0.6959 - val_accuracy: 0.2097\n",
      "Epoch 73/100\n",
      "125/125 [==============================] - 41s 325ms/step - loss: 0.0611 - accuracy: 0.2811 - val_loss: 0.6975 - val_accuracy: 0.2104\n",
      "Epoch 74/100\n",
      "125/125 [==============================] - 40s 321ms/step - loss: 0.0603 - accuracy: 0.2810 - val_loss: 0.6972 - val_accuracy: 0.2091\n",
      "Epoch 75/100\n",
      "125/125 [==============================] - 40s 319ms/step - loss: 0.0592 - accuracy: 0.2815 - val_loss: 0.6988 - val_accuracy: 0.2098\n",
      "Epoch 76/100\n",
      "125/125 [==============================] - 41s 330ms/step - loss: 0.0586 - accuracy: 0.2818 - val_loss: 0.7066 - val_accuracy: 0.2099\n",
      "Epoch 77/100\n",
      "125/125 [==============================] - 40s 319ms/step - loss: 0.0579 - accuracy: 0.2819 - val_loss: 0.7115 - val_accuracy: 0.2089\n",
      "Epoch 78/100\n",
      "125/125 [==============================] - 41s 332ms/step - loss: 0.0569 - accuracy: 0.2821 - val_loss: 0.7138 - val_accuracy: 0.2098\n",
      "Epoch 79/100\n",
      "125/125 [==============================] - 39s 308ms/step - loss: 0.0564 - accuracy: 0.2824 - val_loss: 0.7119 - val_accuracy: 0.2099\n",
      "Epoch 80/100\n",
      "125/125 [==============================] - 41s 329ms/step - loss: 0.0552 - accuracy: 0.2827 - val_loss: 0.7178 - val_accuracy: 0.2093\n",
      "Epoch 81/100\n",
      "125/125 [==============================] - 39s 314ms/step - loss: 0.0548 - accuracy: 0.2828 - val_loss: 0.7249 - val_accuracy: 0.2086\n",
      "Epoch 82/100\n",
      "125/125 [==============================] - 40s 321ms/step - loss: 0.0540 - accuracy: 0.2831 - val_loss: 0.7268 - val_accuracy: 0.2101\n",
      "Epoch 83/100\n",
      "125/125 [==============================] - 39s 314ms/step - loss: 0.0538 - accuracy: 0.2829 - val_loss: 0.7203 - val_accuracy: 0.2099\n",
      "Epoch 84/100\n",
      "125/125 [==============================] - 40s 323ms/step - loss: 0.0527 - accuracy: 0.2833 - val_loss: 0.7271 - val_accuracy: 0.2087\n",
      "Epoch 85/100\n",
      "125/125 [==============================] - 39s 313ms/step - loss: 0.0520 - accuracy: 0.2836 - val_loss: 0.7373 - val_accuracy: 0.2085\n",
      "Epoch 86/100\n",
      "125/125 [==============================] - 42s 335ms/step - loss: 0.0515 - accuracy: 0.2838 - val_loss: 0.7344 - val_accuracy: 0.2085\n",
      "Epoch 87/100\n",
      "125/125 [==============================] - 40s 323ms/step - loss: 0.0510 - accuracy: 0.2838 - val_loss: 0.7392 - val_accuracy: 0.2088\n",
      "Epoch 88/100\n",
      "125/125 [==============================] - 40s 320ms/step - loss: 0.0504 - accuracy: 0.2840 - val_loss: 0.7425 - val_accuracy: 0.2102\n",
      "Epoch 89/100\n",
      "125/125 [==============================] - 40s 322ms/step - loss: 0.0497 - accuracy: 0.2842 - val_loss: 0.7436 - val_accuracy: 0.2097\n",
      "Epoch 90/100\n",
      "125/125 [==============================] - 40s 322ms/step - loss: 0.0488 - accuracy: 0.2845 - val_loss: 0.7434 - val_accuracy: 0.2092\n",
      "Epoch 91/100\n",
      "125/125 [==============================] - 40s 317ms/step - loss: 0.0487 - accuracy: 0.2845 - val_loss: 0.7443 - val_accuracy: 0.2098\n",
      "Epoch 92/100\n",
      "125/125 [==============================] - 40s 320ms/step - loss: 0.0481 - accuracy: 0.2847 - val_loss: 0.7498 - val_accuracy: 0.2092\n",
      "Epoch 93/100\n",
      "125/125 [==============================] - 41s 327ms/step - loss: 0.0475 - accuracy: 0.2848 - val_loss: 0.7556 - val_accuracy: 0.2090\n",
      "Epoch 94/100\n",
      "125/125 [==============================] - 39s 313ms/step - loss: 0.0470 - accuracy: 0.2850 - val_loss: 0.7602 - val_accuracy: 0.2093\n",
      "Epoch 95/100\n",
      "125/125 [==============================] - 41s 330ms/step - loss: 0.0467 - accuracy: 0.2850 - val_loss: 0.7581 - val_accuracy: 0.2095\n",
      "Epoch 96/100\n",
      "125/125 [==============================] - 39s 311ms/step - loss: 0.0462 - accuracy: 0.2851 - val_loss: 0.7632 - val_accuracy: 0.2089\n",
      "Epoch 97/100\n",
      "125/125 [==============================] - 40s 317ms/step - loss: 0.0456 - accuracy: 0.2853 - val_loss: 0.7658 - val_accuracy: 0.2080\n",
      "Epoch 98/100\n",
      "125/125 [==============================] - 39s 310ms/step - loss: 0.0453 - accuracy: 0.2855 - val_loss: 0.7684 - val_accuracy: 0.2088\n",
      "Epoch 99/100\n",
      "125/125 [==============================] - 41s 328ms/step - loss: 0.0446 - accuracy: 0.2856 - val_loss: 0.7666 - val_accuracy: 0.2091\n",
      "Epoch 100/100\n",
      "125/125 [==============================] - 39s 314ms/step - loss: 0.0443 - accuracy: 0.2856 - val_loss: 0.7693 - val_accuracy: 0.2081\n"
     ]
    },
    {
     "data": {
      "text/plain": [
       "<tensorflow.python.keras.callbacks.History at 0x1f33b0c5fc8>"
      ]
     },
     "execution_count": 129,
     "metadata": {},
     "output_type": "execute_result"
    }
   ],
   "source": [
    "# Define the model that will turn\n",
    "# `encoder_input_data` & `decoder_input_data` into `decoder_target_data`\n",
    "model = Model([encoder_inputs, decoder_inputs], decoder_outputs)\n",
    "\n",
    "# Run training\n",
    "model.compile(optimizer='rmsprop', loss='categorical_crossentropy',\n",
    "              metrics=['accuracy'])\n",
    "model.fit([encoder_input_data, decoder_input_data], decoder_target_data,\n",
    "          batch_size=batch_size,\n",
    "          epochs=100,\n",
    "          validation_split=0.2)\n"
   ]
  },
  {
   "cell_type": "code",
   "execution_count": 130,
   "metadata": {},
   "outputs": [],
   "source": [
    "model.save('s2s.h5')"
   ]
  },
  {
   "cell_type": "code",
   "execution_count": 132,
   "metadata": {},
   "outputs": [],
   "source": [
    "\n",
    "from tensorflow import keras\n",
    "model = keras.models.load_model('s2s.h5')"
   ]
  },
  {
   "cell_type": "code",
   "execution_count": 135,
   "metadata": {},
   "outputs": [],
   "source": [
    "encoder_model = Model(encoder_inputs, encoder_states)\n",
    "decoder_state_input_h = Input(shape=(latent_dim,))\n",
    "decoder_state_input_c = Input(shape=(latent_dim,))\n",
    "decoder_states_inputs = [decoder_state_input_h, decoder_state_input_c]\n",
    "decoder_outputs, state_h, state_c = decoder_lstm(decoder_inputs, initial_state=decoder_states_inputs)\n",
    "decoder_states = [state_h, state_c]\n",
    "decoder_outputs = decoder_dense(decoder_outputs)"
   ]
  },
  {
   "cell_type": "code",
   "execution_count": 149,
   "metadata": {},
   "outputs": [],
   "source": [
    "\n",
    "decoder_model = Model(\n",
    "    [decoder_inputs] + decoder_states_inputs,\n",
    "    [decoder_outputs] + decoder_states)\n"
   ]
  },
  {
   "cell_type": "code",
   "execution_count": 136,
   "metadata": {},
   "outputs": [],
   "source": [
    "reverse_input_char_index = dict(\n",
    "    (i, char) for char, i in input_token_index.items())\n",
    "reverse_target_char_index = dict(\n",
    "    (i, char) for char, i in target_token_index.items())\n"
   ]
  },
  {
   "cell_type": "code",
   "execution_count": 203,
   "metadata": {},
   "outputs": [],
   "source": [
    "def decode_sequence(input_seq):\n",
    "    # Encode the input as state vectors. ie whole input into context vecots to be fed to decoder\n",
    "    states_value = encoder_model.predict(input_seq)  # we get context vector\n",
    "\n",
    "    # Generate empty target sequence of length 1.\n",
    "    target_seq = np.zeros((1, 1, num_decoder_tokens))   \n",
    "    # Populate the first character of target sequence with the start character.\n",
    "    target_seq[0, 0, target_token_index['\\t']] = 1.  \n",
    "\n",
    "    # Sampling loop for a batch of sequences\n",
    "    # (to simplify, here we assume a batch of size 1).\n",
    "    stop_condition = False\n",
    "    decoded_sentence = ''\n",
    "    while not stop_condition:\n",
    "        output_tokens, h, c = decoder_model.predict([target_seq] + states_value) \n",
    "\n",
    "        # Sample a token\n",
    "        sampled_token_index = np.argmax(output_tokens[0, -1, :]) #output in [[[]]] hecne [0,0,:]\n",
    "        sampled_char = reverse_target_char_index[sampled_token_index]#get word fro the index\n",
    "        decoded_sentence += sampled_char #we get char which gets appended \n",
    "\n",
    "        # Exit condition: either hit max length\n",
    "        # or find stop character.\n",
    "        if (sampled_char == '\\n' or\n",
    "           len(decoded_sentence) > max_decoder_seq_length):\n",
    "            stop_condition = True\n",
    "\n",
    "        # Update the target sequence (of length 1).\n",
    "        target_seq = np.zeros((1, 1, num_decoder_tokens))  #we reintialize seq for next pred\n",
    "        target_seq[0, 0, sampled_token_index] = 1.\n",
    "\n",
    "        # Update states\n",
    "        states_value = [h, c] #now instead of encoder states , we senf in h and c generated at respective timestep\n",
    "\n",
    "    return decoded_sentence\n",
    "\n"
   ]
  },
  {
   "cell_type": "code",
   "execution_count": 205,
   "metadata": {},
   "outputs": [
    {
     "name": "stdout",
     "output_type": "stream",
     "text": [
      "-\n",
      "Input sentence: Hi.\n",
      "Decoded sentence: Salut.\n",
      "\n",
      "-\n",
      "Input sentence: Hi.\n",
      "Decoded sentence: Salut.\n",
      "\n",
      "-\n",
      "Input sentence: Run!\n",
      "Decoded sentence: Filez !\n",
      "\n"
     ]
    }
   ],
   "source": [
    "\n",
    "for seq_index in range(3,6):\n",
    "    # Take one sequence (part of the training set)\n",
    "    # for trying out decoding.\n",
    "    input_seq = encoder_input_data[seq_index: seq_index + 1]\n",
    "    decoded_sentence = decode_sequence(input_seq)\n",
    "    print('-')\n",
    "    print('Input sentence:', input_texts[seq_index])\n",
    "    print('Decoded sentence:', decoded_sentence)"
   ]
  },
  {
   "cell_type": "code",
   "execution_count": null,
   "metadata": {},
   "outputs": [],
   "source": []
  },
  {
   "cell_type": "code",
   "execution_count": null,
   "metadata": {},
   "outputs": [],
   "source": []
  },
  {
   "cell_type": "code",
   "execution_count": null,
   "metadata": {},
   "outputs": [],
   "source": []
  }
 ],
 "metadata": {
  "kernelspec": {
   "display_name": "Python 3",
   "language": "python",
   "name": "python3"
  },
  "language_info": {
   "codemirror_mode": {
    "name": "ipython",
    "version": 3
   },
   "file_extension": ".py",
   "mimetype": "text/x-python",
   "name": "python",
   "nbconvert_exporter": "python",
   "pygments_lexer": "ipython3",
   "version": "3.7.6"
  }
 },
 "nbformat": 4,
 "nbformat_minor": 4
}
